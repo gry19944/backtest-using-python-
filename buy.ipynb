import pandas as pd
from pykrx import Krx # import Krx, pd

krx = Krx()
krx.get_tickers()

df = pd.read_csv('code.csv', names=['date','month','day','code','succeed']) # read csv
code = 0

# Saving csv file.

for i in range(0,385) : # 385 means the number of stock item
    year = df.iloc[i,0]
    month = df.iloc[i,1]
    day = df.iloc[i,2] # END 날짜 설정완료
    
    code = df.iloc[i,3]
    if code >= 100000 :
        code = str(code)
    elif code >= 10000 : 
        code = str(0)+str(code)
    elif code >= 1000 :
        code = str(0)+str(0)+str(code)
    elif code >= 100 :
        code = str(0)+str(0)+str(0)+str(code) 
    elif code >= 10 :
        code = str(0)+str(0)+str(0)+str(0)+str(code)  # setting stock code. in excel, 0 on first position is deleted. So, I add 0 to that number

    if month <= 9 :
        c = str(0) + str(month)
    else : c =  str(month)
    if day <= 9 :
        d = str(0) + str(day)
    else : d =  str(day) # as code, add 0 to first position.
    newyear = year - 1    
    start = str(newyear)+c+d 
    end = str(year)+c+d
    
    stock = krx.get_market_ohlcv(start, end, code) # saving one year data
    data = pd.DataFrame(stock.tail(11)) # loading recent 11 days data
    data.to_csv("D:/coding/csv/{}.csv".format(i)) # saving as i.csv
   
# selecting buying point   
   
a = 100 # The initial asset
b = 0 # The rate of return
c = 0 # The number of entire additive buying
d = 0 # The number of succesful additive buying
for i in range(0,384) :
    df = pd.read_csv("D:/coding/csv/{}.csv".format(i)) # loading all csv
    
    # 논리 흐름 
    # 1. 기간 내 최저값 구하기 - finding lowest price.
    # 2. 종가 구하기 - finding close price.
    # 3. 추가매수 퍼센트 설정  - selecitng buying point 
    # 4. 두 개 사이의 수익률을 비교하여 그것을 b로 잡기 - calculating rate of return.
    # 5. a에 b를 반영하여 수정하기 - updating a

    
     # finding close price. 종가설정 - 저는 전일종가 혹은 당일 시가로 매도했습니다.
     
    if df.iloc[9,4] >= df.iloc[10,1] :
        last = df.iloc[10,1]
    else : last = df.iloc[10,1]
        
    # finding lowest price. 최저값 찾기
    
    list = []
    for j in range(1,4) : # 열 설정
        for k in range(0,9) : # 행 설정
            x = int(df.iloc[k,j])
            list.append(x)
            
    low = min(list) # lowest price
    
    # selecting additive buying point (initial buying price * 0.8 -> buying when you are losing (1-0.8)*100 = 20%)
    # 최초 산 가격에서 20%가 떨어질 때 추가 매수하는 겁니다.
    buy = list[0] * 0.8 
    
    # calculating b : If the price of the purchase is higher than the lowest price, we can buy additive stocks. 
    if buy > low :
        b = (last - buy) / buy  # 추매 퍼센트가 저가보다 높다면 (추매를 성공 했다면) 가격과 종가를 비교하여 수익률 산정
    else : b = 0 # If not, b = 0 # Nothing happened. No change in a
    
    if b > 0  or b < 0:
        c = c + 1 # The number of entire additive buying (추가 매수 횟수)
    if b > 0 :
        d = d + 1 # The number of succesful additive buying (추가 매수하여 수익을 본 횟수)
    a = a + 100 * b # using simple interest (한번에 100만원씩 단리로 넣는다고 생각)
    
print("final aesset(blance):",a)
print("The number of entire additive buying:",c)
print("The number of succesful additive buying :",d)         
